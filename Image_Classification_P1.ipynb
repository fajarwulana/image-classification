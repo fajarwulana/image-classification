{
  "nbformat": 4,
  "nbformat_minor": 0,
  "metadata": {
    "colab": {
      "name": "Image_Classification_P1.ipynb",
      "provenance": [],
      "collapsed_sections": []
    },
    "kernelspec": {
      "name": "python3",
      "display_name": "Python 3"
    },
    "language_info": {
      "name": "python"
    }
  },
  "cells": [
    {
      "cell_type": "markdown",
      "metadata": {
        "id": "6IkHb2H3Yy0R"
      },
      "source": [
        "**Program Digitalent FGA KOMINFO**\n",
        "\n",
        "Nama: Fajar Wulan A | [Profil Dicoding](https://www.dicoding.com/users/fwulana/academies)"
      ]
    },
    {
      "cell_type": "markdown",
      "metadata": {
        "id": "8cZDiOVDY9na"
      },
      "source": [
        "Program yang akan dibuat kali ini adalah klasifikasi gambar yang mampu mengenali gestur tangan menjadi gunting, batu, dan kertas. Selanjutnya, agar program dapat berjalan maka perlu melakukan beberapa tahapan. Tahapan pertama, mengunduh data yang telah disediakan Dicoding pada link [ini](https://https://dicodingacademy.blob.core.windows.net/picodiploma/ml_pemula_academy/rockpaperscissors.zip) menggunakan perintah wget."
      ]
    },
    {
      "cell_type": "code",
      "metadata": {
        "colab": {
          "base_uri": "https://localhost:8080/"
        },
        "id": "W28bFoLyOdAP",
        "outputId": "321554c4-5326-4f84-f6df-92b5a41bfd15"
      },
      "source": [
        "!wget --no-check-certificate \\\n",
        "  https://dicodingacademy.blob.core.windows.net/picodiploma/ml_pemula_academy/rockpaperscissors.zip"
      ],
      "execution_count": 1,
      "outputs": [
        {
          "output_type": "stream",
          "text": [
            "--2021-07-24 20:37:29--  https://dicodingacademy.blob.core.windows.net/picodiploma/ml_pemula_academy/rockpaperscissors.zip\n",
            "Resolving dicodingacademy.blob.core.windows.net (dicodingacademy.blob.core.windows.net)... 52.239.197.36\n",
            "Connecting to dicodingacademy.blob.core.windows.net (dicodingacademy.blob.core.windows.net)|52.239.197.36|:443... connected.\n",
            "HTTP request sent, awaiting response... 200 OK\n",
            "Length: 322873683 (308M) [application/zip]\n",
            "Saving to: ‘rockpaperscissors.zip’\n",
            "\n",
            "rockpaperscissors.z 100%[===================>] 307.92M  2.65MB/s    in 81s     \n",
            "\n",
            "2021-07-24 20:38:51 (3.81 MB/s) - ‘rockpaperscissors.zip’ saved [322873683/322873683]\n",
            "\n"
          ],
          "name": "stdout"
        }
      ]
    },
    {
      "cell_type": "code",
      "metadata": {
        "id": "u5Prh7SVO0i-"
      },
      "source": [
        "#import library yang akan digunakan pada model ini\n",
        "import tensorflow as tf\n",
        "from tensorflow.keras.preprocessing.image import ImageDataGenerator\n",
        "from tensorflow.keras.optimizers import RMSprop\n",
        "from keras.preprocessing import image"
      ],
      "execution_count": 26,
      "outputs": []
    },
    {
      "cell_type": "markdown",
      "metadata": {
        "id": "QyxWyclJZbL4"
      },
      "source": [
        "Setelah unduhan selesai, maka tahap selanjutnya adalah mengekstrak file zip menjadi sebuah folder."
      ]
    },
    {
      "cell_type": "code",
      "metadata": {
        "id": "Dlrog3e-O3JM"
      },
      "source": [
        "import zipfile, os\n",
        "local_zip = '/content/rockpaperscissors.zip'\n",
        "zip_ref = zipfile.ZipFile(local_zip,'r')\n",
        "zip_ref.extractall('/content')\n",
        "zip_ref.close()"
      ],
      "execution_count": 3,
      "outputs": []
    },
    {
      "cell_type": "markdown",
      "metadata": {
        "id": "SJtx7RC-ZeA0"
      },
      "source": [
        "Kemudian, tahap selanjutnya mendefinisikan nama folder untuk data gambar gunting, batu, dan kertas serta mengetahui total dari gambar yang tersedia."
      ]
    },
    {
      "cell_type": "code",
      "metadata": {
        "colab": {
          "base_uri": "https://localhost:8080/"
        },
        "id": "Xpy0jSrXO5Du",
        "outputId": "5e4e3f62-136c-4586-ba73-7aeded238ff1"
      },
      "source": [
        "base_dir = '/content/rockpaperscissors/rps-cv-images'\n",
        "\n",
        "scissors_dir = os.path.join(base_dir, 'scissors')\n",
        "paper_dir = os.path.join(base_dir, 'paper')\n",
        "rock_dir = os.path.join(base_dir, 'rock')\n",
        "\n",
        "print('Total gambar gunting:', len(os.listdir(scissors_dir)))\n",
        "print('Total gambar kertas:', len(os.listdir(paper_dir)))\n",
        "print('Total gambar batu:', len(os.listdir(rock_dir)))"
      ],
      "execution_count": 4,
      "outputs": [
        {
          "output_type": "stream",
          "text": [
            "Total gambar gunting: 750\n",
            "Total gambar kertas: 712\n",
            "Total gambar batu: 726\n"
          ],
          "name": "stdout"
        }
      ]
    },
    {
      "cell_type": "markdown",
      "metadata": {
        "id": "MlxMolVsZjCp"
      },
      "source": [
        "Tahap selanjutnya, membuat objek untuk image data generator dan membuat proporsi data dimana 60% data training, 40% data validation. Selain itu, melakukan pelabelan data berdasarkan folder."
      ]
    },
    {
      "cell_type": "code",
      "metadata": {
        "colab": {
          "base_uri": "https://localhost:8080/"
        },
        "id": "ZwcrkkkaO7h4",
        "outputId": "028ff4d9-ea52-4e12-960e-26e183cec552"
      },
      "source": [
        "train_datagen = ImageDataGenerator(\n",
        "                    rescale = 1./255,\n",
        "                    rotation_range = 20,\n",
        "                    horizontal_flip = True,\n",
        "                    shear_range = 0.2,\n",
        "                    zoom_range= 0.2,\n",
        "                    fill_mode = 'nearest',\n",
        "                    validation_split = 0.4)\n",
        " \n",
        "train_generator = train_datagen.flow_from_directory(\n",
        "          base_dir,\n",
        "          target_size = (100,150),  \n",
        "          class_mode = 'categorical',\n",
        "          shuffle = True,\n",
        "          subset = 'training')\n",
        "\n",
        "validation_generator = train_datagen.flow_from_directory(\n",
        "        base_dir, \n",
        "        target_size=(100, 150),  \n",
        "        subset='validation',\n",
        "        shuffle = True,\n",
        "        class_mode='categorical')"
      ],
      "execution_count": 5,
      "outputs": [
        {
          "output_type": "stream",
          "text": [
            "Found 1314 images belonging to 3 classes.\n",
            "Found 874 images belonging to 3 classes.\n"
          ],
          "name": "stdout"
        }
      ]
    },
    {
      "cell_type": "markdown",
      "metadata": {
        "id": "uG6aBgujZnAW"
      },
      "source": [
        "Setelah data siap, kemudian membangun model jaringan syaraf tiruan (CNN) menggunakan sequential."
      ]
    },
    {
      "cell_type": "code",
      "metadata": {
        "colab": {
          "base_uri": "https://localhost:8080/"
        },
        "id": "jFJU1es6O_2L",
        "outputId": "16588166-c631-4a66-83ea-994568cbbb9a"
      },
      "source": [
        "model = tf.keras.models.Sequential([\n",
        "    tf.keras.layers.Conv2D(32, (3,3), activation='relu', input_shape=(100, 150, 3)),\n",
        "    tf.keras.layers.MaxPooling2D(2, 2),\n",
        "    tf.keras.layers.Conv2D(64, (3,3), activation='relu'),\n",
        "    tf.keras.layers.MaxPooling2D(2,2),\n",
        "    tf.keras.layers.Conv2D(128, (3,3), activation='relu'),\n",
        "    tf.keras.layers.MaxPooling2D(2,2),\n",
        "    tf.keras.layers.Conv2D(512, (3,3), activation='relu'),\n",
        "    tf.keras.layers.MaxPooling2D(2,2),\n",
        "    tf.keras.layers.Flatten(),\n",
        "    tf.keras.layers.Dropout(0.5),\n",
        "    tf.keras.layers.Dense(128, activation='relu'),\n",
        "    tf.keras.layers.Dense(3, activation='softmax')\n",
        "])\n",
        "model.summary()"
      ],
      "execution_count": 6,
      "outputs": [
        {
          "output_type": "stream",
          "text": [
            "Model: \"sequential\"\n",
            "_________________________________________________________________\n",
            "Layer (type)                 Output Shape              Param #   \n",
            "=================================================================\n",
            "conv2d (Conv2D)              (None, 98, 148, 32)       896       \n",
            "_________________________________________________________________\n",
            "max_pooling2d (MaxPooling2D) (None, 49, 74, 32)        0         \n",
            "_________________________________________________________________\n",
            "conv2d_1 (Conv2D)            (None, 47, 72, 64)        18496     \n",
            "_________________________________________________________________\n",
            "max_pooling2d_1 (MaxPooling2 (None, 23, 36, 64)        0         \n",
            "_________________________________________________________________\n",
            "conv2d_2 (Conv2D)            (None, 21, 34, 128)       73856     \n",
            "_________________________________________________________________\n",
            "max_pooling2d_2 (MaxPooling2 (None, 10, 17, 128)       0         \n",
            "_________________________________________________________________\n",
            "conv2d_3 (Conv2D)            (None, 8, 15, 512)        590336    \n",
            "_________________________________________________________________\n",
            "max_pooling2d_3 (MaxPooling2 (None, 4, 7, 512)         0         \n",
            "_________________________________________________________________\n",
            "flatten (Flatten)            (None, 14336)             0         \n",
            "_________________________________________________________________\n",
            "dropout (Dropout)            (None, 14336)             0         \n",
            "_________________________________________________________________\n",
            "dense (Dense)                (None, 128)               1835136   \n",
            "_________________________________________________________________\n",
            "dense_1 (Dense)              (None, 3)                 387       \n",
            "=================================================================\n",
            "Total params: 2,519,107\n",
            "Trainable params: 2,519,107\n",
            "Non-trainable params: 0\n",
            "_________________________________________________________________\n"
          ],
          "name": "stdout"
        }
      ]
    },
    {
      "cell_type": "markdown",
      "metadata": {
        "id": "4cNB_mmxZzDn"
      },
      "source": [
        "Selanjutnya, melakukan kompilasi pada objek model dan menentukan fungsi loss serta optimizer."
      ]
    },
    {
      "cell_type": "code",
      "metadata": {
        "id": "Q3qC1LiXPDcQ"
      },
      "source": [
        "model.compile(loss='categorical_crossentropy',\n",
        "              optimizer='adam',\n",
        "              metrics=['accuracy'])"
      ],
      "execution_count": 7,
      "outputs": []
    },
    {
      "cell_type": "markdown",
      "metadata": {
        "id": "Eez1_TijZz5t"
      },
      "source": [
        "Pada model ini menggunakan fungsi callback untuk melakukan penghentian apabila pelatihan model sudah mencapai target 99% dan juga menggunakan fungsi learning rate."
      ]
    },
    {
      "cell_type": "code",
      "metadata": {
        "id": "W6k1sb3tQI0u"
      },
      "source": [
        "class myCallback(tf.keras.callbacks.Callback):\n",
        "   def on_epoch_end(self, epoch, logs={}):\n",
        "      if(logs.get('accuracy') >= 0.99 and logs.get('val_accuracy') >= 0.99):\n",
        "          print(\"\\nAkurasi telah mencapai >=99%!\")\n",
        "          self.model.stop_training = True\n",
        "callbacks = myCallback()\n",
        "\n",
        "lr = tf.keras.callbacks.ReduceLROnPlateau(monitor='val_loss', patience=15, min_lr=0.00001, verbose=2)"
      ],
      "execution_count": 27,
      "outputs": []
    },
    {
      "cell_type": "markdown",
      "metadata": {
        "id": "rJpYFS6Fa-94"
      },
      "source": [
        "Setelah menentukan loss function dan optimizer, tahap selanjutnya melatih model dengan menggunakan model fit."
      ]
    },
    {
      "cell_type": "code",
      "metadata": {
        "colab": {
          "base_uri": "https://localhost:8080/"
        },
        "id": "312_bigPPF_C",
        "outputId": "661f54f6-5c4f-4a85-a91d-ec9e7a91a69e"
      },
      "source": [
        "history = model.fit(train_generator,\n",
        "                    steps_per_epoch=25,\n",
        "                    epochs=30,\n",
        "                    validation_data=validation_generator,\n",
        "                    validation_steps=5,\n",
        "                    callbacks=[callbacks, lr],\n",
        "                    verbose=2)"
      ],
      "execution_count": 9,
      "outputs": [
        {
          "output_type": "stream",
          "text": [
            "Epoch 1/30\n",
            "25/25 - 36s - loss: 1.0291 - accuracy: 0.4288 - val_loss: 0.7001 - val_accuracy: 0.6125\n",
            "Epoch 2/30\n",
            "25/25 - 33s - loss: 0.5452 - accuracy: 0.7740 - val_loss: 0.3471 - val_accuracy: 0.8938\n",
            "Epoch 3/30\n",
            "25/25 - 33s - loss: 0.3615 - accuracy: 0.8675 - val_loss: 0.5044 - val_accuracy: 0.8188\n",
            "Epoch 4/30\n",
            "25/25 - 33s - loss: 0.3112 - accuracy: 0.9039 - val_loss: 0.2195 - val_accuracy: 0.9250\n",
            "Epoch 5/30\n",
            "25/25 - 34s - loss: 0.2714 - accuracy: 0.9013 - val_loss: 0.3041 - val_accuracy: 0.9062\n",
            "Epoch 6/30\n",
            "25/25 - 34s - loss: 0.2446 - accuracy: 0.9143 - val_loss: 0.2204 - val_accuracy: 0.9000\n",
            "Epoch 7/30\n",
            "25/25 - 35s - loss: 0.2416 - accuracy: 0.9187 - val_loss: 0.1530 - val_accuracy: 0.9500\n",
            "Epoch 8/30\n",
            "25/25 - 33s - loss: 0.2732 - accuracy: 0.8870 - val_loss: 0.3429 - val_accuracy: 0.8750\n",
            "Epoch 9/30\n",
            "25/25 - 35s - loss: 0.1847 - accuracy: 0.9375 - val_loss: 0.3898 - val_accuracy: 0.8938\n",
            "Epoch 10/30\n",
            "25/25 - 34s - loss: 0.1785 - accuracy: 0.9312 - val_loss: 0.2022 - val_accuracy: 0.9187\n",
            "Epoch 11/30\n",
            "25/25 - 34s - loss: 0.2034 - accuracy: 0.9247 - val_loss: 0.1837 - val_accuracy: 0.9375\n",
            "Epoch 12/30\n",
            "25/25 - 35s - loss: 0.1477 - accuracy: 0.9500 - val_loss: 0.2686 - val_accuracy: 0.9250\n",
            "Epoch 13/30\n",
            "25/25 - 35s - loss: 0.1367 - accuracy: 0.9525 - val_loss: 0.1322 - val_accuracy: 0.9688\n",
            "Epoch 14/30\n",
            "25/25 - 34s - loss: 0.0908 - accuracy: 0.9688 - val_loss: 0.0789 - val_accuracy: 0.9688\n",
            "Epoch 15/30\n",
            "25/25 - 33s - loss: 0.1016 - accuracy: 0.9636 - val_loss: 0.0875 - val_accuracy: 0.9688\n",
            "Epoch 16/30\n",
            "25/25 - 34s - loss: 0.0795 - accuracy: 0.9649 - val_loss: 0.1085 - val_accuracy: 0.9750\n",
            "Epoch 17/30\n",
            "25/25 - 35s - loss: 0.1087 - accuracy: 0.9688 - val_loss: 0.2836 - val_accuracy: 0.8875\n",
            "Epoch 18/30\n",
            "25/25 - 35s - loss: 0.0983 - accuracy: 0.9625 - val_loss: 0.1378 - val_accuracy: 0.9563\n",
            "Epoch 19/30\n",
            "25/25 - 34s - loss: 0.2503 - accuracy: 0.9182 - val_loss: 0.1796 - val_accuracy: 0.9500\n",
            "Epoch 20/30\n",
            "25/25 - 33s - loss: 0.2154 - accuracy: 0.9247 - val_loss: 0.1720 - val_accuracy: 0.9500\n",
            "Epoch 21/30\n",
            "25/25 - 33s - loss: 0.1199 - accuracy: 0.9584 - val_loss: 0.2632 - val_accuracy: 0.9312\n",
            "Epoch 22/30\n",
            "25/25 - 33s - loss: 0.1138 - accuracy: 0.9636 - val_loss: 0.0802 - val_accuracy: 0.9750\n",
            "Epoch 23/30\n",
            "25/25 - 33s - loss: 0.1139 - accuracy: 0.9623 - val_loss: 0.1444 - val_accuracy: 0.9688\n",
            "Epoch 24/30\n",
            "25/25 - 34s - loss: 0.0614 - accuracy: 0.9800 - val_loss: 0.1019 - val_accuracy: 0.9688\n",
            "Epoch 25/30\n",
            "25/25 - 34s - loss: 0.0403 - accuracy: 0.9875 - val_loss: 0.1957 - val_accuracy: 0.9438\n",
            "Epoch 26/30\n",
            "25/25 - 33s - loss: 0.0761 - accuracy: 0.9714 - val_loss: 0.1040 - val_accuracy: 0.9563\n",
            "Epoch 27/30\n",
            "25/25 - 33s - loss: 0.0618 - accuracy: 0.9831 - val_loss: 0.0407 - val_accuracy: 0.9812\n",
            "Epoch 28/30\n",
            "25/25 - 33s - loss: 0.0696 - accuracy: 0.9766 - val_loss: 0.0726 - val_accuracy: 0.9750\n",
            "Epoch 29/30\n",
            "25/25 - 33s - loss: 0.0833 - accuracy: 0.9753 - val_loss: 0.0588 - val_accuracy: 0.9750\n",
            "Epoch 30/30\n",
            "25/25 - 34s - loss: 0.0472 - accuracy: 0.9837 - val_loss: 0.0197 - val_accuracy: 1.0000\n"
          ],
          "name": "stdout"
        }
      ]
    },
    {
      "cell_type": "markdown",
      "metadata": {
        "id": "4HlymlusbEKm"
      },
      "source": [
        "Setelah melakukan pelatihan model maka tahap selanjutnya melakukan evaluasi model menggunakan grafik dari fungsi matplotlib untuk mengetahui pergerakan besaran nilai akurasi training dan validasi."
      ]
    },
    {
      "cell_type": "code",
      "metadata": {
        "colab": {
          "base_uri": "https://localhost:8080/",
          "height": 579
        },
        "id": "IzDWz5ZXVgmY",
        "outputId": "0d015e35-1b17-4e59-b80b-ed29599e4b38"
      },
      "source": [
        "import matplotlib.pyplot as plt\n",
        "acc = history.history['accuracy']\n",
        "val_acc = history.history['val_accuracy'] \n",
        "loss = history.history['loss']\n",
        "val_loss = history.history['val_loss']\n",
        "\n",
        "epochs = range(len(acc))\n",
        "\n",
        "plt.plot(epochs, acc, 'r', label='Akurasi Training')\n",
        "plt.plot(epochs, val_acc, 'b', label='Akurasi Validation')\n",
        "plt.title('Akurasi Training dan Validation')\n",
        "plt.legend(loc=0)\n",
        "plt.figure()\n",
        "plt.show()\n",
        "\n",
        "plt.plot(epochs, loss, 'r', label='Loss Training')\n",
        "plt.plot(epochs, val_loss, 'b', label='Loss Validation')\n",
        "plt.title('Loss Training dan Validation')\n",
        "plt.legend(loc=0)\n",
        "plt.figure()\n",
        "plt.show()"
      ],
      "execution_count": 14,
      "outputs": [
        {
          "output_type": "display_data",
          "data": {
            "image/png": "[encoded data removed]",
            "text/plain": [
              "<Figure size 432x288 with 1 Axes>"
            ]
          },
          "metadata": {
            "tags": [],
            "needs_background": "light"
          }
        },
        {
          "output_type": "display_data",
          "data": {
            "text/plain": [
              "<Figure size 432x288 with 0 Axes>"
            ]
          },
          "metadata": {
            "tags": []
          }
        },
        {
          "output_type": "display_data",
          "data": {
            "image/png": "[encoded data removed]",
            "text/plain": [
              "<Figure size 432x288 with 1 Axes>"
            ]
          },
          "metadata": {
            "tags": [],
            "needs_background": "light"
          }
        },
        {
          "output_type": "display_data",
          "data": {
            "text/plain": [
              "<Figure size 432x288 with 0 Axes>"
            ]
          },
          "metadata": {
            "tags": []
          }
        }
      ]
    },
    {
      "cell_type": "markdown",
      "metadata": {
        "id": "9ZFzV7QWbr6w"
      },
      "source": [
        "Menampilkan kelas dan atribut pada data menggunakan fungsi train generator dan class indices"
      ]
    },
    {
      "cell_type": "code",
      "metadata": {
        "colab": {
          "base_uri": "https://localhost:8080/"
        },
        "id": "TLYtDNouU_Zg",
        "outputId": "70773f74-2b2f-4531-cf64-49a329ae1f14"
      },
      "source": [
        "print(train_generator.class_indices)"
      ],
      "execution_count": 10,
      "outputs": [
        {
          "output_type": "stream",
          "text": [
            "{'paper': 0, 'rock': 1, 'scissors': 2}\n"
          ],
          "name": "stdout"
        }
      ]
    },
    {
      "cell_type": "markdown",
      "metadata": {
        "id": "yogRS-Jdb7Ms"
      },
      "source": [
        "Tahapan selanjutnya, melakukan uji coba model dengan mengunggah gambar. Model akan menentukan apakah gambar berbentuk gunting, batu, atau kertas."
      ]
    },
    {
      "cell_type": "code",
      "metadata": {
        "colab": {
          "resources": {
            "http://localhost:8080/nbextensions/google.colab/files.js": {
              "data": "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",
              "ok": true,
              "headers": [
                [
                  "content-type",
                  "application/javascript"
                ]
              ],
              "status": 200,
              "status_text": ""
            }
          },
          "base_uri": "https://localhost:8080/",
          "height": 377
        },
        "id": "hHI2DxCbUzo5",
        "outputId": "74859770-906e-4cb4-80dc-7ac427040060"
      },
      "source": [
        "import numpy as np\n",
        "from google.colab import files\n",
        "from keras.preprocessing import image\n",
        "import matplotlib.pyplot as plt\n",
        "import matplotlib.image as mpimg\n",
        "%matplotlib inline\n",
        "\n",
        "uploaded = files.upload()\n",
        "\n",
        "for up in uploaded.keys():\n",
        "\n",
        "  path = up\n",
        "  img = image.load_img(path, target_size=(100,150))\n",
        "  imgplot = plt.imshow(img)\n",
        "  x = image.img_to_array(img)\n",
        "  x = np.expand_dims(x, axis=0)\n",
        "\n",
        "  images = np.vstack([x])\n",
        "  classes = model.predict(images, batch_size=10)\n",
        "  output = np.argmax(classes) \n",
        " \n",
        "  print(up)\n",
        "  if classes[0, 0] == 1:\n",
        "    print('paper')\n",
        "  elif classes[0, 1] == 1:\n",
        "    print('rock')\n",
        "  elif classes[0, 2] == 1:\n",
        "    print('scissors')"
      ],
      "execution_count": 25,
      "outputs": [
        {
          "output_type": "display_data",
          "data": {
            "text/html": [
              "\n",
              "     <input type=\"file\" id=\"files-e8139ff0-7fdc-4f16-b48f-cc5ca17d168b\" name=\"files[]\" multiple disabled\n",
              "        style=\"border:none\" />\n",
              "     <output id=\"result-e8139ff0-7fdc-4f16-b48f-cc5ca17d168b\">\n",
              "      Upload widget is only available when the cell has been executed in the\n",
              "      current browser session. Please rerun this cell to enable.\n",
              "      </output>\n",
              "      <script src=\"/nbextensions/google.colab/files.js\"></script> "
            ],
            "text/plain": [
              "<IPython.core.display.HTML object>"
            ]
          },
          "metadata": {
            "tags": []
          }
        },
        {
          "output_type": "stream",
          "text": [
            "Saving Screen Shot 2021-07-25 at 04.18.28.png to Screen Shot 2021-07-25 at 04.18.28.png\n",
            "Screen Shot 2021-07-25 at 04.18.28.png\n",
            "rock\n"
          ],
          "name": "stdout"
        },
        {
          "output_type": "display_data",
          "data": {
            "image/png": "[encoded data removed]",
            "text/plain": [
              "<Figure size 432x288 with 1 Axes>"
            ]
          },
          "metadata": {
            "tags": [],
            "needs_background": "light"
          }
        }
      ]
    }
  ]
}